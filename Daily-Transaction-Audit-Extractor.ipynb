{
  "cells": [
    {
      "cell_type": "markdown",
      "metadata": {
        "id": "view-in-github",
        "colab_type": "text"
      },
      "source": [
        "<a href=\"https://colab.research.google.com/github/nmalby/Daily-Transaction-Audit-Extractor/blob/main/Daily-Transaction-Audit-Extractor.ipynb\" target=\"_parent\"><img src=\"https://colab.research.google.com/assets/colab-badge.svg\" alt=\"Open In Colab\"/></a>"
      ]
    },
    {
      "cell_type": "code",
      "source": [
        "!pip install tabula-py"
      ],
      "metadata": {
        "id": "GD5wNY__GdjC"
      },
      "execution_count": null,
      "outputs": []
    },
    {
      "cell_type": "code",
      "source": [
        "import io\n",
        "import re\n",
        "import tabula\n",
        "import pandas as pd\n",
        "pd.options.mode.chained_assignment = None  # default='warn'\n",
        "\n",
        "from google.colab import files"
      ],
      "metadata": {
        "id": "CW4asR-vkbrq"
      },
      "execution_count": 2,
      "outputs": []
    },
    {
      "cell_type": "code",
      "source": [
        "uploaded = files.upload()"
      ],
      "metadata": {
        "id": "OBrqZJujLWA3"
      },
      "execution_count": null,
      "outputs": []
    },
    {
      "cell_type": "code",
      "source": [
        "sectionCodes = {\n",
        "    'supervis 1': 205,\n",
        "    'coordina 1': 206,\n",
        "    'pockets': 207,\n",
        "    'backs': 208,\n",
        "    'bodies': 209,\n",
        "    'slv/col/fly': 211,\n",
        "    'fronts': 212,\n",
        "    'parts': 213,\n",
        "    'coordina 2': 221,\n",
        "    'shell prep': 222,\n",
        "    'therm/mb 1': 223,\n",
        "    'therm/mb 2': 224,\n",
        "    'coordina 3': 236,\n",
        "    'assembly': 237,\n",
        "    'finishing': 238,\n",
        "    'hardware': 239,\n",
        "    'misc lbr': 266,\n",
        "    'training': 270,\n",
        "    'engineer': 295,\n",
        "    'cutting indirect': 305,\n",
        "    'cutting direct': 310}\n",
        "\n",
        "remove_pass_one =   {'Transaction Type':['----------------','Earnings Inquiry','IPR...Labor Code:','Lunch Start','Lunch Stop','Sign-OFF','difications.......', 'Operator Inquiry', 'Bundle Inquiry','Bulk Start','Bundle Quit'],\n",
        "                     'Problem':['Bun already done','Currently on job','Job not found', 'Not signed on', 'Cur on lunch','Cur on other W/S','Already signd on']}\n",
        "remove_pass_two =   {'Trans':['for Emp',\"999999\"]}\n",
        "\n",
        "areaBounds = {\n",
        "    1: [110, 35, 565, 750],\n",
        "    2: [100, 35, 555, 750]}\n",
        "\n",
        "columnsBounds = {'time': 70, 'trans': 110, 'trans type': 205, 'problem': 300, 'ipr': 320, 'line job': 350, 'labr code': 400, 'split nbr': 430, 'rate fctr': 495, 'sect': 520, 'bundle num': 560, 'qty': 610}"
      ],
      "metadata": {
        "id": "4Z07vtwNImzM"
      },
      "execution_count": 5,
      "outputs": []
    },
    {
      "cell_type": "code",
      "source": [
        "def pdfToExcel(pdf):\n",
        "    df_raw = tabula.read_pdf(pdf, pages = '001', area=areaBounds[1], columns=list(columnsBounds.values()), guess=False)\n",
        "    df_final = pd.DataFrame()\n",
        "\n",
        "    date = re.search(r'([0-9]+(\\.[0-9]+)+)', pdf.name).group().replace(\".\", \"/\")\n",
        "\n",
        "    for item in df_raw:\n",
        "        item = item[~item.isin(remove_pass_one).any(axis='columns')]\n",
        "\n",
        "        item['Job'] = item['Job'].fillna(method='ffill')\n",
        "\n",
        "        extracted_id = (item['Transaction Type'].str.extract(r'loyee (\\d+)',expand=False)).bfill()\n",
        "        if extracted_id.tail(1).item():\n",
        "            item['Nbr'] = item['Nbr'].fillna(extracted_id.tail(1).item())\n",
        "\n",
        "        df_final = pd.concat([df_final, item], ignore_index=True)\n",
        "\n",
        "        df_final = df_final[~df_final.isin(remove_pass_two).any(axis='columns')]\n",
        "        df_final.dropna(subset=['Number'], inplace=True)\n",
        "\n",
        "    df_raw = tabula.read_pdf(pdf, pages = '002-500', area=areaBounds[2], columns=list(columnsBounds.values()), guess=False)\n",
        "\n",
        "    for item in df_raw:\n",
        "        \n",
        "        item = item[~item.isin(remove_pass_one).any(axis='columns')]\n",
        "\n",
        "        item['Job'] = item['Job'].fillna(method='ffill')\n",
        "\n",
        "        extracted_id = (item['Transaction Type'].str.extract(r'loyee (\\d+)',expand=False)).bfill()\n",
        "        if extracted_id.tail(1).item():\n",
        "            item['Nbr'] = item['Nbr'].fillna(extracted_id.tail(1).item())\n",
        "\n",
        "        df_final = pd.concat([df_final, item], ignore_index=True)\n",
        "\n",
        "        df_final = df_final[~df_final.isin(remove_pass_two).any(axis='columns')]\n",
        "        df_final.dropna(subset=['Number'], inplace=True)\n",
        "    \n",
        "    df_final.rename(columns={'IPR': 'Date'}, inplace=True)\n",
        "    df_final.rename(columns={'Nbr': 'ID'}, inplace=True)\n",
        "\n",
        "    df_final['Job'].fillna(method='ffill', inplace=True)\n",
        "    df_final['Date'].fillna(value=date, inplace=True)\n",
        "    df_final['ID'].fillna(method='bfill', inplace=True)\n",
        "\n",
        "    df_final.drop(columns=['Sect', 'Sp  Qty', 'SAHAmountEFF'], inplace=True)\n",
        "\n",
        "    # display(df_final)\n",
        "    df_final.to_excel(pdf.name.split('/')[-1].split('.p')[0] + '.xlsx')\n"
      ],
      "metadata": {
        "id": "b60dQPRPbf8S"
      },
      "execution_count": 32,
      "outputs": []
    },
    {
      "cell_type": "code",
      "source": [
        "for pdf_raw in uploaded:\n",
        "    pdf = io.BytesIO(uploaded[pdf_raw])\n",
        "    pdf.name = pdf_raw\n",
        "    pdfToExcel(pdf)"
      ],
      "metadata": {
        "id": "cgCCZsVCT7m7"
      },
      "execution_count": null,
      "outputs": []
    }
  ],
  "metadata": {
    "colab": {
      "name": "Daily Transaction Audit Extractor",
      "provenance": [],
      "include_colab_link": true
    },
    "kernelspec": {
      "display_name": "Python 3",
      "name": "python3"
    }
  },
  "nbformat": 4,
  "nbformat_minor": 0
}