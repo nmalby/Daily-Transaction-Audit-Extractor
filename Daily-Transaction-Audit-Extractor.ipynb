{
  "cells": [
    {
      "cell_type": "markdown",
      "metadata": {
        "id": "view-in-github",
        "colab_type": "text"
      },
      "source": [
        "<a href=\"https://colab.research.google.com/github/nmalby/Daily-Transaction-Audit-Extractor/blob/main/Daily-Transaction-Audit-Extractor.ipynb\" target=\"_parent\"><img src=\"https://colab.research.google.com/assets/colab-badge.svg\" alt=\"Open In Colab\"/></a>"
      ]
    },
    {
      "cell_type": "code",
      "source": [
        "!pip install tabula-py\n",
        "!pip install pandas\n",
        "\n",
        "import tabula\n",
        "import pandas as pd"
      ],
      "metadata": {
        "id": "GD5wNY__GdjC"
      },
      "execution_count": null,
      "outputs": []
    },
    {
      "cell_type": "code",
      "source": [
        "top = 100\n",
        "left = 35\n",
        "height = 440\n",
        "width = 715\n",
        "\n",
        "columnsBounds = [70,110,205, 300, 320, 350, 400, 430, 495, 520, 560]\n",
        "\n",
        "df = tabula.read_pdf('/content/test.pdf', pages = \"211-214\", area=[top,left,top+height,left+width], columns=columnsBounds, guess=False)\n",
        "\n",
        "# df[0].dropna(axis=1,how='all',inplace=True)\n",
        "\n",
        "test = pd.concat(df, ignore_index=True)\n",
        "\n",
        "# display(df[0])\n",
        "test.to_excel('filename.xlsx')\n",
        "\n",
        "\n"
      ],
      "metadata": {
        "id": "MpA5CLfbGjc5",
        "outputId": "04fd7254-542f-4401-ebd1-a38690748dc5",
        "colab": {
          "base_uri": "https://localhost:8080/"
        }
      },
      "execution_count": 60,
      "outputs": [
        {
          "output_type": "stream",
          "name": "stderr",
          "text": [
            "WARNING:tabula.io:Got stderr: Apr 21, 2023 6:31:13 PM org.apache.pdfbox.pdmodel.font.PDType1Font <init>\n",
            "WARNING: Using fallback font LiberationSans for base font Symbol\n",
            "Apr 21, 2023 6:31:13 PM org.apache.pdfbox.pdmodel.font.PDType1Font <init>\n",
            "WARNING: Using fallback font LiberationSans for base font ZapfDingbats\n",
            "\n"
          ]
        }
      ]
    }
  ],
  "metadata": {
    "colab": {
      "name": "Welcome To Colaboratory",
      "provenance": [],
      "include_colab_link": true
    },
    "kernelspec": {
      "display_name": "Python 3",
      "name": "python3"
    }
  },
  "nbformat": 4,
  "nbformat_minor": 0
}